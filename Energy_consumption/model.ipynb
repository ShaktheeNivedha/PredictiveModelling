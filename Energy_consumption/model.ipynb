{
  "cells": [
    {
      "cell_type": "code",
      "execution_count": null,
      "metadata": {
        "colab": {
          "base_uri": "https://localhost:8080/"
        },
        "id": "W2k2qfaPJ5c9",
        "outputId": "a6e74889-7880-4c1f-e76c-0c625dbd8a3b"
      },
      "outputs": [],
      "source": [
        "import pandas as pd\n",
        "import numpy as np\n",
        "import pickle\n",
        "from sklearn.model_selection import train_test_split\n",
        "from sklearn.preprocessing import StandardScaler\n",
        "from sklearn.ensemble import RandomForestRegressor\n",
        "from sklearn.tree import DecisionTreeRegressor\n",
        "\n",
        "file_path = \"energy_consumption.csv\"\n",
        "df = pd.read_csv(file_path)\n",
        "\n",
        "df.columns = df.columns.str.strip()\n",
        "\n",
        "df['timestamp'] = pd.to_datetime(df['timestamp'], errors='coerce')\n",
        "df.dropna(subset=['timestamp'], inplace=True)\n",
        "df.set_index('timestamp', inplace=True)\n",
        "\n",
        "features = ['day_of_week', 'month', 'hour', 'weekend', 'holiday', 'temperature', 'humidity', 'wind_speed',\n",
        "            'solar_radiation', 'building_size', 'occupants', 'building_type', 'HVAC_usage', 'lighting_usage',\n",
        "            'appliance_load', 'previous_hour_consumption', 'previous_day_consumption', 'previous_week_consumption',\n",
        "            ]\n",
        "target = 'energy_consumption'\n",
        "\n",
        "X = df[features]\n",
        "y = df[target]\n",
        "\n",
        "X_train, X_test, y_train, y_test = train_test_split(X, y, test_size=0.2, shuffle=False)\n",
        "\n",
        "scaler = StandardScaler()\n",
        "X_train_scaled = scaler.fit_transform(X_train)\n",
        "X_test_scaled = scaler.transform(X_test)\n",
        "X_scaled = scaler.transform(X)\n",
        "\n",
        "\n",
        "rf_model = RandomForestRegressor(n_estimators=100, random_state=42)\n",
        "rf_model.fit(X_train_scaled, y_train)\n",
        "\n",
        "dt_model = DecisionTreeRegressor(random_state=42)\n",
        "dt_model.fit(X_train_scaled, y_train)\n",
        "\n",
        "rf_model_full = RandomForestRegressor(n_estimators=100, random_state=42)\n",
        "rf_model_full.fit(X_scaled, y)\n",
        "\n",
        "\n",
        "with open(\"rf_model_full.pkl\", \"wb\") as model_file:\n",
        "    pickle.dump(rf_model_full, model_file)\n",
        "\n",
        "with open(\"scaler.pkl\", \"wb\") as scaler_file:\n",
        "    pickle.dump(scaler, scaler_file)"
      ]
    }
  ],
  "metadata": {
    "colab": {
      "provenance": []
    },
    "kernelspec": {
      "display_name": "Python 3",
      "name": "python3"
    },
    "language_info": {
      "codemirror_mode": {
        "name": "ipython",
        "version": 3
      },
      "file_extension": ".py",
      "mimetype": "text/x-python",
      "name": "python",
      "nbconvert_exporter": "python",
      "pygments_lexer": "ipython3",
      "version": "3.11.8"
    }
  },
  "nbformat": 4,
  "nbformat_minor": 0
}
